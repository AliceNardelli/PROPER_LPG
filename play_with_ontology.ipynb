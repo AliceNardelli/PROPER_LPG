{
 "cells": [
  {
   "cell_type": "code",
   "execution_count": 1,
   "metadata": {},
   "outputs": [
    {
     "name": "stdout",
     "output_type": "stream",
     "text": [
      "[ontology_new.Actions, ontology_new.Predicates, ontology_new.Functions, ontology_new.Types]\n"
     ]
    }
   ],
   "source": [
    "from owlready2 import *\n",
    "onto_path.append(\"/home/alice/\")\n",
    "onto = get_ontology(\"http://www.semanticweb.org/alice/ontologies/2023/3/ontology_new#\").load()\n",
    "print(list(onto.classes()))"
   ]
  },
  {
   "cell_type": "code",
   "execution_count": 2,
   "metadata": {},
   "outputs": [
    {
     "data": {
      "text/plain": [
       "AllDisjoint([ontology_new.Predicates, ontology_new.Functions, ontology_new.Actions, ontology_new.Types])"
      ]
     },
     "execution_count": 2,
     "metadata": {},
     "output_type": "execute_result"
    }
   ],
   "source": [
    "with onto:\n",
    "    class Predicates(Thing):\n",
    "        pass\n",
    "    class Functions(Thing):\n",
    "        pass\n",
    "    class Actions(Thing):\n",
    "        pass\n",
    "    class Types(Thing):\n",
    "        pass\n",
    "\n",
    "AllDisjoint([Predicates,Functions,Actions,Types])"
   ]
  },
  {
   "cell_type": "code",
   "execution_count": 3,
   "metadata": {},
   "outputs": [
    {
     "name": "stderr",
     "output_type": "stream",
     "text": [
      "* Owlready2 * Running HermiT...\n",
      "    java -Xmx2000M -cp /home/alice/.local/lib/python3.8/site-packages/owlready2/hermit:/home/alice/.local/lib/python3.8/site-packages/owlready2/hermit/HermiT.jar org.semanticweb.HermiT.cli.CommandLine -c -O -D -I file:////tmp/tmpsfgz2fmw\n"
     ]
    },
    {
     "ename": "FileNotFoundError",
     "evalue": "[Errno 2] No such file or directory: 'java'",
     "output_type": "error",
     "traceback": [
      "\u001b[0;31m---------------------------------------------------------------------------\u001b[0m",
      "\u001b[0;31mFileNotFoundError\u001b[0m                         Traceback (most recent call last)",
      "Cell \u001b[0;32mIn[3], line 2\u001b[0m\n\u001b[1;32m      1\u001b[0m \u001b[39mwith\u001b[39;00m onto:\n\u001b[0;32m----> 2\u001b[0m   sync_reasoner()\n",
      "File \u001b[0;32m~/.local/lib/python3.8/site-packages/owlready2/reasoning.py:148\u001b[0m, in \u001b[0;36msync_reasoner_hermit\u001b[0;34m(x, infer_property_values, debug, keep_tmp_file)\u001b[0m\n\u001b[1;32m    145\u001b[0m   t0 \u001b[39m=\u001b[39m time\u001b[39m.\u001b[39mtime()\n\u001b[1;32m    147\u001b[0m \u001b[39mtry\u001b[39;00m:\n\u001b[0;32m--> 148\u001b[0m   output \u001b[39m=\u001b[39m subprocess\u001b[39m.\u001b[39;49mcheck_output(command, stderr \u001b[39m=\u001b[39;49m subprocess\u001b[39m.\u001b[39;49mSTDOUT, \u001b[39m*\u001b[39;49m\u001b[39m*\u001b[39;49m_subprocess_kargs)\n\u001b[1;32m    149\u001b[0m \u001b[39mexcept\u001b[39;00m subprocess\u001b[39m.\u001b[39mCalledProcessError \u001b[39mas\u001b[39;00m e:\n\u001b[1;32m    150\u001b[0m   \u001b[39mif\u001b[39;00m (e\u001b[39m.\u001b[39mreturncode \u001b[39m==\u001b[39m \u001b[39m1\u001b[39m) \u001b[39mand\u001b[39;00m (\u001b[39mb\u001b[39m\u001b[39m\"\u001b[39m\u001b[39mInconsistent ontology\u001b[39m\u001b[39m\"\u001b[39m \u001b[39min\u001b[39;00m (e\u001b[39m.\u001b[39moutput \u001b[39mor\u001b[39;00m \u001b[39mb\u001b[39m\u001b[39m\"\u001b[39m\u001b[39m\"\u001b[39m)):\n",
      "File \u001b[0;32m/usr/lib/python3.8/subprocess.py:415\u001b[0m, in \u001b[0;36mcheck_output\u001b[0;34m(timeout, *popenargs, **kwargs)\u001b[0m\n\u001b[1;32m    412\u001b[0m         empty \u001b[39m=\u001b[39m \u001b[39mb\u001b[39m\u001b[39m'\u001b[39m\u001b[39m'\u001b[39m\n\u001b[1;32m    413\u001b[0m     kwargs[\u001b[39m'\u001b[39m\u001b[39minput\u001b[39m\u001b[39m'\u001b[39m] \u001b[39m=\u001b[39m empty\n\u001b[0;32m--> 415\u001b[0m \u001b[39mreturn\u001b[39;00m run(\u001b[39m*\u001b[39;49mpopenargs, stdout\u001b[39m=\u001b[39;49mPIPE, timeout\u001b[39m=\u001b[39;49mtimeout, check\u001b[39m=\u001b[39;49m\u001b[39mTrue\u001b[39;49;00m,\n\u001b[1;32m    416\u001b[0m            \u001b[39m*\u001b[39;49m\u001b[39m*\u001b[39;49mkwargs)\u001b[39m.\u001b[39mstdout\n",
      "File \u001b[0;32m/usr/lib/python3.8/subprocess.py:493\u001b[0m, in \u001b[0;36mrun\u001b[0;34m(input, capture_output, timeout, check, *popenargs, **kwargs)\u001b[0m\n\u001b[1;32m    490\u001b[0m     kwargs[\u001b[39m'\u001b[39m\u001b[39mstdout\u001b[39m\u001b[39m'\u001b[39m] \u001b[39m=\u001b[39m PIPE\n\u001b[1;32m    491\u001b[0m     kwargs[\u001b[39m'\u001b[39m\u001b[39mstderr\u001b[39m\u001b[39m'\u001b[39m] \u001b[39m=\u001b[39m PIPE\n\u001b[0;32m--> 493\u001b[0m \u001b[39mwith\u001b[39;00m Popen(\u001b[39m*\u001b[39;49mpopenargs, \u001b[39m*\u001b[39;49m\u001b[39m*\u001b[39;49mkwargs) \u001b[39mas\u001b[39;00m process:\n\u001b[1;32m    494\u001b[0m     \u001b[39mtry\u001b[39;00m:\n\u001b[1;32m    495\u001b[0m         stdout, stderr \u001b[39m=\u001b[39m process\u001b[39m.\u001b[39mcommunicate(\u001b[39minput\u001b[39m, timeout\u001b[39m=\u001b[39mtimeout)\n",
      "File \u001b[0;32m/usr/lib/python3.8/subprocess.py:858\u001b[0m, in \u001b[0;36mPopen.__init__\u001b[0;34m(self, args, bufsize, executable, stdin, stdout, stderr, preexec_fn, close_fds, shell, cwd, env, universal_newlines, startupinfo, creationflags, restore_signals, start_new_session, pass_fds, encoding, errors, text)\u001b[0m\n\u001b[1;32m    854\u001b[0m         \u001b[39mif\u001b[39;00m \u001b[39mself\u001b[39m\u001b[39m.\u001b[39mtext_mode:\n\u001b[1;32m    855\u001b[0m             \u001b[39mself\u001b[39m\u001b[39m.\u001b[39mstderr \u001b[39m=\u001b[39m io\u001b[39m.\u001b[39mTextIOWrapper(\u001b[39mself\u001b[39m\u001b[39m.\u001b[39mstderr,\n\u001b[1;32m    856\u001b[0m                     encoding\u001b[39m=\u001b[39mencoding, errors\u001b[39m=\u001b[39merrors)\n\u001b[0;32m--> 858\u001b[0m     \u001b[39mself\u001b[39;49m\u001b[39m.\u001b[39;49m_execute_child(args, executable, preexec_fn, close_fds,\n\u001b[1;32m    859\u001b[0m                         pass_fds, cwd, env,\n\u001b[1;32m    860\u001b[0m                         startupinfo, creationflags, shell,\n\u001b[1;32m    861\u001b[0m                         p2cread, p2cwrite,\n\u001b[1;32m    862\u001b[0m                         c2pread, c2pwrite,\n\u001b[1;32m    863\u001b[0m                         errread, errwrite,\n\u001b[1;32m    864\u001b[0m                         restore_signals, start_new_session)\n\u001b[1;32m    865\u001b[0m \u001b[39mexcept\u001b[39;00m:\n\u001b[1;32m    866\u001b[0m     \u001b[39m# Cleanup if the child failed starting.\u001b[39;00m\n\u001b[1;32m    867\u001b[0m     \u001b[39mfor\u001b[39;00m f \u001b[39min\u001b[39;00m \u001b[39mfilter\u001b[39m(\u001b[39mNone\u001b[39;00m, (\u001b[39mself\u001b[39m\u001b[39m.\u001b[39mstdin, \u001b[39mself\u001b[39m\u001b[39m.\u001b[39mstdout, \u001b[39mself\u001b[39m\u001b[39m.\u001b[39mstderr)):\n",
      "File \u001b[0;32m/usr/lib/python3.8/subprocess.py:1704\u001b[0m, in \u001b[0;36mPopen._execute_child\u001b[0;34m(self, args, executable, preexec_fn, close_fds, pass_fds, cwd, env, startupinfo, creationflags, shell, p2cread, p2cwrite, c2pread, c2pwrite, errread, errwrite, restore_signals, start_new_session)\u001b[0m\n\u001b[1;32m   1702\u001b[0m     \u001b[39mif\u001b[39;00m errno_num \u001b[39m!=\u001b[39m \u001b[39m0\u001b[39m:\n\u001b[1;32m   1703\u001b[0m         err_msg \u001b[39m=\u001b[39m os\u001b[39m.\u001b[39mstrerror(errno_num)\n\u001b[0;32m-> 1704\u001b[0m     \u001b[39mraise\u001b[39;00m child_exception_type(errno_num, err_msg, err_filename)\n\u001b[1;32m   1705\u001b[0m \u001b[39mraise\u001b[39;00m child_exception_type(err_msg)\n",
      "\u001b[0;31mFileNotFoundError\u001b[0m: [Errno 2] No such file or directory: 'java'"
     ]
    }
   ],
   "source": [
    "with onto:\n",
    "  sync_reasoner()"
   ]
  },
  {
   "cell_type": "code",
   "execution_count": null,
   "metadata": {},
   "outputs": [],
   "source": [
    "#leggo il dominio e aggiungo ogni tipo"
   ]
  },
  {
   "cell_type": "code",
   "execution_count": 4,
   "metadata": {},
   "outputs": [],
   "source": [
    "class has_precondition_predicates(ObjectProperty):\n",
    "    domain    = [Actions]\n",
    "    range     = [Predicates]\n",
    "\n",
    "class has_effect_predicates(ObjectProperty):\n",
    "    domain    = [Actions]\n",
    "    range     = [Predicates]\n",
    "\n",
    "class is_precondition_predicates(ObjectProperty):\n",
    "    domain    = [Predicates]\n",
    "    range     = [Actions]\n",
    "    inverse_property = has_precondition_predicates\n",
    "\n",
    "class is_effect_predicates(ObjectProperty):\n",
    "    domain    = [Predicates]\n",
    "    range     = [Actions]\n",
    "    inverse_property = has_effect_predicates"
   ]
  },
  {
   "cell_type": "code",
   "execution_count": 15,
   "metadata": {},
   "outputs": [],
   "source": [
    "class has_object(ObjectProperty):\n",
    "    domain    = [Types]\n",
    "    range     = [Predicates]\n",
    "\n",
    "class is_object(ObjectProperty):\n",
    "    domain    = [Predicates]\n",
    "    range     = [Types]\n",
    "    inverse_property = has_object"
   ]
  },
  {
   "cell_type": "code",
   "execution_count": 16,
   "metadata": {},
   "outputs": [],
   "source": [
    "class has_precondition_function(ObjectProperty):\n",
    "    domain    = [Actions]\n",
    "    range     = [Functions]\n",
    "\n",
    "class has_effect_function(ObjectProperty):\n",
    "    domain    = [Actions]\n",
    "    range     = [Functions]\n",
    "\n",
    "class is_precondition_function(ObjectProperty):\n",
    "    domain    = [Functions]\n",
    "    range     = [Actions]\n",
    "    inverse_property = has_precondition_function\n",
    "\n",
    "class is_effect_function(ObjectProperty):\n",
    "    domain    = [Functions]\n",
    "    range     = [Actions]\n",
    "    inverse_property = has_effect_function"
   ]
  },
  {
   "cell_type": "code",
   "execution_count": 12,
   "metadata": {},
   "outputs": [],
   "source": [
    "has_effect_predicates.inverse_property=is_effect_predicates\n",
    "has_precondition_predicates.inverse_property=is_precondition_predicates"
   ]
  },
  {
   "cell_type": "code",
   "execution_count": 13,
   "metadata": {},
   "outputs": [
    {
     "name": "stdout",
     "output_type": "stream",
     "text": [
      "[ontology_new.Actions, ontology_new.Predicates, ontology_new.Functions, ontology_new.Types]\n"
     ]
    }
   ],
   "source": [
    "print(list(onto.classes()))"
   ]
  },
  {
   "cell_type": "code",
   "execution_count": 14,
   "metadata": {},
   "outputs": [
    {
     "data": {
      "text/plain": [
       "[ontology_new.Predicates]"
      ]
     },
     "execution_count": 14,
     "metadata": {},
     "output_type": "execute_result"
    }
   ],
   "source": [
    "is_effect_predicates.domain"
   ]
  },
  {
   "cell_type": "code",
   "execution_count": 6,
   "metadata": {},
   "outputs": [],
   "source": [
    "a = Actions(\"go\")\n",
    "p = Predicates(\"at\")\n",
    "#a.has_effect_predicates.append(p)\n",
    "p.is_effect_predicates=[a]"
   ]
  },
  {
   "cell_type": "code",
   "execution_count": 17,
   "metadata": {},
   "outputs": [
    {
     "data": {
      "text/plain": [
       "[ontology_new.go]"
      ]
     },
     "execution_count": 17,
     "metadata": {},
     "output_type": "execute_result"
    }
   ],
   "source": [
    "p.is_effect_predicates"
   ]
  },
  {
   "cell_type": "code",
   "execution_count": 21,
   "metadata": {},
   "outputs": [
    {
     "ename": "AttributeError",
     "evalue": "'World' object has no attribute '_get_triples_spod_spod'",
     "output_type": "error",
     "traceback": [
      "\u001b[0;31m---------------------------------------------------------------------------\u001b[0m",
      "\u001b[0;31mAttributeError\u001b[0m                            Traceback (most recent call last)",
      "Cell \u001b[0;32mIn[21], line 1\u001b[0m\n\u001b[0;32m----> 1\u001b[0m \u001b[39mlist\u001b[39;49m(is_effect_predicates\u001b[39m.\u001b[39;49mget_relations())\n",
      "File \u001b[0;32m~/.local/lib/python3.8/site-packages/owlready2/prop.py:460\u001b[0m, in \u001b[0;36mProperty.get_relations\u001b[0;34m(Prop)\u001b[0m\n\u001b[1;32m    458\u001b[0m \u001b[39m@classmethod\u001b[39m\n\u001b[1;32m    459\u001b[0m \u001b[39mdef\u001b[39;00m \u001b[39mget_relations\u001b[39m(Prop):\n\u001b[0;32m--> 460\u001b[0m   \u001b[39mfor\u001b[39;00m s,p,o,d \u001b[39min\u001b[39;00m Prop\u001b[39m.\u001b[39;49mnamespace\u001b[39m.\u001b[39;49mworld\u001b[39m.\u001b[39;49m_get_triples_spod_spod(\u001b[39mNone\u001b[39;00m, Prop\u001b[39m.\u001b[39mstorid, \u001b[39mNone\u001b[39;00m, \u001b[39m\"\u001b[39m\u001b[39m\"\u001b[39m):\n\u001b[1;32m    461\u001b[0m     s \u001b[39m=\u001b[39m Prop\u001b[39m.\u001b[39mnamespace\u001b[39m.\u001b[39mworld\u001b[39m.\u001b[39m_get_by_storid(s)\n\u001b[1;32m    462\u001b[0m     o \u001b[39m=\u001b[39m Prop\u001b[39m.\u001b[39mnamespace\u001b[39m.\u001b[39montology\u001b[39m.\u001b[39m_to_python(o, d)\n",
      "\u001b[0;31mAttributeError\u001b[0m: 'World' object has no attribute '_get_triples_spod_spod'"
     ]
    }
   ],
   "source": [
    "is_effect_predicates.get_relations()"
   ]
  },
  {
   "cell_type": "code",
   "execution_count": null,
   "metadata": {},
   "outputs": [],
   "source": [
    "onto.save()"
   ]
  },
  {
   "cell_type": "code",
   "execution_count": null,
   "metadata": {},
   "outputs": [],
   "source": [
    "#p=Predicates(\"finished\")\n",
    "#destroy_entity(p)"
   ]
  },
  {
   "attachments": {},
   "cell_type": "markdown",
   "metadata": {},
   "source": [
    "data properties\n",
    "        int\n",
    "        float\n",
    "        bool\n",
    "        str (string)\n",
    "        owlready2.normstr (normalized string, a single-line string)\n",
    "        owlready2.locstr (localized string, a string with a language associated)\n",
    "        datetime.date\n",
    "        datetime.time\n",
    "        datetime.datetime"
   ]
  },
  {
   "cell_type": "code",
   "execution_count": null,
   "metadata": {},
   "outputs": [],
   "source": [
    "with onto:\n",
    "     class has_value(DataProperty, FunctionalProperty): #functional means that each one has a single value\n",
    "        domain =[Functions]\n",
    "        range = [int]"
   ]
  },
  {
   "cell_type": "code",
   "execution_count": null,
   "metadata": {},
   "outputs": [],
   "source": [
    "f = Functions(\"no_of_box\")\n",
    "f.has_value=[5]"
   ]
  },
  {
   "cell_type": "code",
   "execution_count": null,
   "metadata": {},
   "outputs": [],
   "source": [
    "f.has_value"
   ]
  },
  {
   "cell_type": "code",
   "execution_count": null,
   "metadata": {},
   "outputs": [],
   "source": [
    "for i in Functions.instances(): \n",
    "    print(i)\n",
    "    print(i.has_value)"
   ]
  },
  {
   "cell_type": "code",
   "execution_count": null,
   "metadata": {},
   "outputs": [],
   "source": [
    "f.has_value=[2]"
   ]
  }
 ],
 "metadata": {
  "kernelspec": {
   "display_name": "Python 3",
   "language": "python",
   "name": "python3"
  },
  "language_info": {
   "codemirror_mode": {
    "name": "ipython",
    "version": 3
   },
   "file_extension": ".py",
   "mimetype": "text/x-python",
   "name": "python",
   "nbconvert_exporter": "python",
   "pygments_lexer": "ipython3",
   "version": "3.8.10"
  },
  "orig_nbformat": 4
 },
 "nbformat": 4,
 "nbformat_minor": 2
}
