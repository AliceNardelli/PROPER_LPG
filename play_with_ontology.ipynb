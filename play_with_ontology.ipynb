{
 "cells": [
  {
   "cell_type": "code",
   "execution_count": 2,
   "metadata": {},
   "outputs": [],
   "source": [
    "from owlready2 import *\n",
    "onto_path.append(\"/home/alice/\")\n",
    "onto = get_ontology(\"http://www.semanticweb.org/alice/ontologies/2023/3/ontology_new#\").load()"
   ]
  },
  {
   "cell_type": "code",
   "execution_count": 3,
   "metadata": {},
   "outputs": [
    {
     "data": {
      "text/plain": [
       "AllDisjoint([ontology_new.Predicates, ontology_new.Functions, ontology_new.Actions, ontology_new.Types, ontology_new.Objects])"
      ]
     },
     "execution_count": 3,
     "metadata": {},
     "output_type": "execute_result"
    }
   ],
   "source": [
    "with onto:\n",
    "    class Predicates(Thing):\n",
    "        pass\n",
    "    class Functions(Thing):\n",
    "        pass\n",
    "    class Actions(Thing):\n",
    "        pass\n",
    "    class Types(Thing):\n",
    "        pass\n",
    "    class Objects(Thing):\n",
    "        pass\n",
    "\n",
    "AllDisjoint([Predicates,Functions,Actions,Types,Objects])"
   ]
  },
  {
   "cell_type": "code",
   "execution_count": 4,
   "metadata": {},
   "outputs": [
    {
     "data": {
      "text/plain": [
       "[ontology_new.Actions,\n",
       " ontology_new.Predicates,\n",
       " ontology_new.Functions,\n",
       " ontology_new.Objects,\n",
       " ontology_new.Types]"
      ]
     },
     "execution_count": 4,
     "metadata": {},
     "output_type": "execute_result"
    }
   ],
   "source": [
    "list(onto.classes())"
   ]
  },
  {
   "cell_type": "code",
   "execution_count": 13,
   "metadata": {},
   "outputs": [],
   "source": [
    "#with onto:\n",
    " #sync_reasoner()"
   ]
  },
  {
   "cell_type": "code",
   "execution_count": 5,
   "metadata": {},
   "outputs": [],
   "source": [
    "with onto:\n",
    "\n",
    "    class has_effect_predicates(ObjectProperty):\n",
    "        domain    = [Actions]\n",
    "        range     = [Predicates]\n",
    "\n",
    "    class is_effect_predicates(ObjectProperty):\n",
    "        domain    = [Predicates]\n",
    "        range     = [Actions]\n",
    "        inverse_property = has_effect_predicates\n",
    "\n",
    "    class has_effect_function(ObjectProperty):\n",
    "        domain    = [Actions]\n",
    "        range     = [Functions]\n",
    "\n",
    "    class is_effect_function(ObjectProperty):\n",
    "        domain    = [Functions]\n",
    "        range     = [Actions]\n",
    "        inverse_property = has_effect_function\n",
    "\n",
    "    class has_object(ObjectProperty):\n",
    "        domain    = [Predicates]\n",
    "        range     = [Objects]\n",
    "\n",
    "    class is_object(ObjectProperty):\n",
    "        domain    = [Objects]\n",
    "        range     = [Predicates]\n",
    "        inverse_property = has_object\n",
    "\n",
    "    class has_type(ObjectProperty):\n",
    "        domain    = [Objects]\n",
    "        range     = [Types]\n",
    "\n",
    "    class is_type(ObjectProperty):\n",
    "        domain    = [Types]\n",
    "        range     = [Objects]\n",
    "        inverse_property = has_type"
   ]
  },
  {
   "cell_type": "code",
   "execution_count": 7,
   "metadata": {},
   "outputs": [],
   "source": [
    "with onto:\n",
    "    class has_value(DataProperty, FunctionalProperty): #functional means that each one has a single value\n",
    "        domain =[Functions]\n",
    "        range = [float]\n",
    "    class isGrounded(DataProperty, FunctionalProperty): #functional means that each one has a single value\n",
    "        domain =[Predicates]\n",
    "        range = [float]\n",
    "    class hasOperator(DataProperty): #is not a functional, each predicate can have more than one operator\n",
    "        #domain =[Predicates]\n",
    "        range = [float]"
   ]
  },
  {
   "attachments": {},
   "cell_type": "markdown",
   "metadata": {},
   "source": [
    "check inverse\n",
    "a = Actions(\"go\")\n",
    "p = Predicates(\"at\")\n",
    "#a.has_effect_predicates.append(p)\n",
    "p.is_effect_predicates=[a]\n",
    "a.has_effect_predicates\n",
    "p.is_effect_predicates\n",
    "is_effect_predicates.domain"
   ]
  },
  {
   "cell_type": "code",
   "execution_count": 8,
   "metadata": {},
   "outputs": [],
   "source": [
    "domain_path = \"/home/alice/PROPER_LPG/\"\n",
    "if os.path.isfile(domain_path+'/prova_domain.pddl'):\n",
    "    output_path=domain_path+'/prova_domain.pddl'\n",
    "    with open(output_path, \"r\") as domain_file:\n",
    "        raw_domain = domain_file.readlines()\n"
   ]
  },
  {
   "cell_type": "code",
   "execution_count": 9,
   "metadata": {},
   "outputs": [],
   "source": [
    "last_action=\"\"\n",
    "actions=[]\n",
    "for p in raw_domain:\n",
    "    if (\":durative-action\" in p) or (\":action\" in p):\n",
    "        if (\":durative-action\" in p):\n",
    "            last_action=p.replace(\":durative-action\",\"\").replace(\"( \",\"\").replace(\"\\n\",\"\")\n",
    "        elif (\":action\" in p):\n",
    "            last_action=p.replace(\":action\",\"\").replace(\"( \",\"\").replace(\"\\n\",\"\")\n",
    "        actions.append(last_action)\n",
    "actions.pop(0)\n",
    "actions_objects={}\n",
    "for a in actions:\n",
    "    actions_objects[a]=Actions(a)"
   ]
  },
  {
   "cell_type": "code",
   "execution_count": 11,
   "metadata": {},
   "outputs": [],
   "source": [
    "#FIND TYPES AND ADD TO THE ONTOLOGY\n",
    "types=[]\n",
    "t=False\n",
    "for p in raw_domain:\n",
    "        if (\")\" in p):\n",
    "            t=False\n",
    "        if t==True:\n",
    "            types.append(p.replace(\"\\t\",\"\").replace(\"\\n\",\"\"))\n",
    "        if (\":types\" in p):\n",
    "            t=True\n",
    "types_objects={}\n",
    "for t in types:\n",
    "   types_objects[t]=Types(t)"
   ]
  },
  {
   "cell_type": "code",
   "execution_count": 12,
   "metadata": {},
   "outputs": [],
   "source": [
    "#PREDICATES\n",
    "predicates=[]\n",
    "t=False\n",
    "for p in raw_domain:\n",
    "        if (\":action\" in p):\n",
    "            t=False\n",
    "        if t==True:\n",
    "            if \"?\" in p:\n",
    "                new=p[p.find(\"(\")+1:p.find(\"?\")].replace(\" \",\"\")\n",
    "                \n",
    "            else:\n",
    "                new=p[p.find(\"(\")+1:p.find(\")\")].replace(\" \",\"\")\n",
    "                \n",
    "            if new!=\"\":   \n",
    "                predicates.append(new)\n",
    "        if (\":predicates\" in p):\n",
    "            t=True\n",
    "predicates_objects={}\n",
    "for t in predicates:\n",
    "    predicates_objects[t]=Predicates(t)\n"
   ]
  },
  {
   "cell_type": "code",
   "execution_count": 13,
   "metadata": {},
   "outputs": [
    {
     "data": {
      "text/plain": [
       "{'production_room': ontology_new.production_room,\n",
       " 'assembly_room': ontology_new.assembly_room,\n",
       " 'presented_task': ontology_new.presented_task,\n",
       " 'at': ontology_new.at,\n",
       " 'human_present': ontology_new.human_present,\n",
       " 'block_to_deliver': ontology_new.block_to_deliver,\n",
       " 'empty_robot': ontology_new.empty_robot,\n",
       " 'finished': ontology_new.finished,\n",
       " 'extro': ontology_new.extro,\n",
       " 'intro': ontology_new.intro,\n",
       " 'computed_e': ontology_new.computed_e,\n",
       " 'consc': ontology_new.consc,\n",
       " 'unsc': ontology_new.unsc,\n",
       " 'computed_c': ontology_new.computed_c,\n",
       " 'agree': ontology_new.agree,\n",
       " 'disagree': ontology_new.disagree,\n",
       " 'computed_a': ontology_new.computed_a}"
      ]
     },
     "execution_count": 13,
     "metadata": {},
     "output_type": "execute_result"
    }
   ],
   "source": [
    "predicates_objects"
   ]
  },
  {
   "cell_type": "code",
   "execution_count": 14,
   "metadata": {},
   "outputs": [],
   "source": [
    "functions=[]\n",
    "t=False\n",
    "for p in raw_domain:\n",
    "        if (\":predicates\" in p):\n",
    "            t=False\n",
    "        if t==True:\n",
    "            if \"?\" in p:\n",
    "                new=p[p.find(\"(\")+1:p.find(\"?\")]\n",
    "                \n",
    "            else:\n",
    "                new=p[p.find(\"(\")+1:p.find(\")\")]\n",
    "                \n",
    "            if new!=\"\":   \n",
    "               functions.append(new)\n",
    "        if (\":functions\" in p):\n",
    "            t=True\n",
    "function_objects={}\n",
    "for t in functions:\n",
    "    function_objects[t]=Functions(t)"
   ]
  },
  {
   "cell_type": "code",
   "execution_count": 39,
   "metadata": {},
   "outputs": [
    {
     "name": "stdout",
     "output_type": "stream",
     "text": [
      "<class 'str'>\n",
      "<class 'str'>\n",
      "<class 'str'>\n",
      "<class 'str'>\n",
      "<class 'str'>\n",
      "<class 'str'>\n",
      "<class 'str'>\n",
      "<class 'str'>\n",
      "<class 'str'>\n",
      "<class 'str'>\n",
      "<class 'str'>\n",
      "<class 'str'>\n",
      "<class 'str'>\n",
      "<class 'str'>\n",
      "<class 'str'>\n",
      "<class 'str'>\n",
      "<class 'str'>\n",
      "<class 'str'>\n",
      "<class 'str'>\n",
      "<class 'str'>\n",
      "<class 'str'>\n",
      "<class 'str'>\n",
      "<class 'str'>\n",
      "<class 'str'>\n",
      "<class 'str'>\n",
      "<class 'str'>\n",
      "<class 'str'>\n",
      "<class 'str'>\n",
      "<class 'str'>\n",
      "<class 'str'>\n",
      "<class 'str'>\n",
      "<class 'str'>\n",
      "<class 'str'>\n",
      "<class 'str'>\n",
      "<class 'str'>\n",
      "<class 'str'>\n",
      "<class 'str'>\n",
      "<class 'str'>\n",
      "<class 'str'>\n",
      "<class 'str'>\n",
      "<class 'str'>\n",
      "<class 'str'>\n",
      "<class 'str'>\n",
      "<class 'str'>\n",
      "<class 'str'>\n",
      "<class 'str'>\n",
      "<class 'str'>\n",
      "<class 'str'>\n",
      "<class 'str'>\n",
      "<class 'str'>\n",
      "<class 'str'>\n",
      "<class 'str'>\n",
      "<class 'str'>\n",
      "<class 'str'>\n",
      "<class 'str'>\n",
      "<class 'str'>\n",
      "<class 'str'>\n",
      "<class 'str'>\n",
      "<class 'str'>\n",
      "<class 'str'>\n",
      "<class 'str'>\n",
      "<class 'str'>\n",
      "<class 'str'>\n",
      "<class 'str'>\n",
      "<class 'str'>\n",
      "<class 'str'>\n",
      "<class 'str'>\n",
      "<class 'str'>\n",
      "<class 'str'>\n",
      "<class 'str'>\n",
      "<class 'str'>\n",
      "<class 'str'>\n",
      "<class 'str'>\n",
      "<class 'str'>\n",
      "<class 'str'>\n",
      "<class 'str'>\n",
      "<class 'str'>\n",
      "<class 'str'>\n",
      "<class 'str'>\n",
      "<class 'str'>\n",
      "<class 'str'>\n",
      "<class 'str'>\n",
      "<class 'str'>\n",
      "<class 'str'>\n",
      "<class 'str'>\n",
      "<class 'str'>\n",
      "<class 'str'>\n",
      "<class 'str'>\n",
      "<class 'str'>\n",
      "<class 'str'>\n",
      "<class 'str'>\n",
      "<class 'str'>\n",
      "<class 'str'>\n",
      "<class 'str'>\n",
      "<class 'str'>\n",
      "<class 'str'>\n",
      "<class 'str'>\n",
      "<class 'str'>\n",
      "<class 'str'>\n",
      "<class 'str'>\n",
      "<class 'str'>\n",
      "<class 'str'>\n",
      "<class 'str'>\n",
      "<class 'str'>\n",
      "<class 'str'>\n",
      "<class 'str'>\n",
      "<class 'str'>\n",
      "<class 'str'>\n",
      "<class 'str'>\n",
      "<class 'str'>\n",
      "<class 'str'>\n",
      "<class 'str'>\n",
      "<class 'str'>\n",
      "<class 'str'>\n",
      "<class 'str'>\n",
      "<class 'str'>\n",
      "<class 'str'>\n",
      "<class 'str'>\n",
      "<class 'str'>\n",
      "<class 'str'>\n",
      "<class 'str'>\n",
      "<class 'str'>\n",
      "<class 'str'>\n",
      "<class 'str'>\n",
      "<class 'str'>\n",
      "<class 'str'>\n",
      "<class 'str'>\n",
      "<class 'str'>\n",
      "<class 'str'>\n",
      "<class 'str'>\n",
      "<class 'str'>\n",
      "<class 'str'>\n",
      "<class 'str'>\n",
      "<class 'str'>\n",
      "<class 'str'>\n",
      "<class 'str'>\n",
      "<class 'str'>\n",
      "<class 'str'>\n",
      "<class 'str'>\n",
      "<class 'str'>\n"
     ]
    }
   ],
   "source": [
    "#connect all the relations between actions predicates and functions\n",
    "t=False\n",
    "last_action=\"\"\n",
    "for p in raw_domain:\n",
    "    if (\":durative-action\" in p) or (\":action\" in p):\n",
    "        t=False\n",
    "        if (\":durative-action\" in p):\n",
    "            last_action=p.replace(\":durative-action\",\"\").replace(\"( \",\"\").replace(\"\\n\",\"\")\n",
    "        elif (\":action\" in p):\n",
    "            last_action=p.replace(\":action\",\"\").replace(\"( \",\"\").replace(\"\\n\",\"\")\n",
    "    if t==True:\n",
    "        if \";\" not in p:\n",
    "            operation=p.replace(\"and\",\"\").replace(\"at end\",\"\").replace(\"(\",\" \").replace(\")\",\" \")\n",
    "            pred=operation.replace(\"decrease\",\"\").replace(\"increase\",\"\").replace(\"assign\",\"\").replace(\"not\",\"\").split()\n",
    "            #operation=operation.split()\n",
    "           \n",
    "            if pred==[]:\n",
    "                continue\n",
    "            else:\n",
    "                   \n",
    "               check=str(pred[0])\n",
    "               for l in predicates:\n",
    "                   if check==l:\n",
    "                       actions_objects[last_action].has_effect_predicates.append(predicates_objects[check])\n",
    "                       break\n",
    "                    \n",
    "               for l in functions:\n",
    "                   if check==l:\n",
    "                       actions_objects[last_action].has_effect_function.append(function_objects[check])\n",
    "                       break\n",
    "\n",
    "    if \":effect\" in p:\n",
    "        t=True"
   ]
  },
  {
   "cell_type": "code",
   "execution_count": 25,
   "metadata": {},
   "outputs": [],
   "source": [
    "#prendo un'azione\n",
    "#prendo tutti gli effetti\n",
    "#se un effetto è predicato metto has_predicate_effect\n",
    "#se è una funzione metto come has_function_effect"
   ]
  },
  {
   "cell_type": "code",
   "execution_count": null,
   "metadata": {},
   "outputs": [],
   "source": []
  },
  {
   "cell_type": "code",
   "execution_count": 17,
   "metadata": {},
   "outputs": [
    {
     "name": "stdout",
     "output_type": "stream",
     "text": [
      "ontology_new.no_of_box\n",
      "ontology_new.max_no_blocks\n",
      "ontology_new.no_blocks\n",
      "ontology_new.dur\n",
      "ontology_new.extroversion_coefficient\n",
      "ontology_new.desired_interaction\n",
      "ontology_new.interaction_level\n",
      "ontology_new.conscientious_coefficient\n",
      "ontology_new.desired_scrupulousness\n",
      "ontology_new.scrupulousness_level\n",
      "ontology_new.agreeableness_coefficient\n",
      "ontology_new.desired_agreeableness\n",
      "ontology_new.agreeableness_level\n",
      "ontology_new.baseline\n"
     ]
    }
   ],
   "source": [
    "for i in Functions.instances():\n",
    "    print(i)"
   ]
  },
  {
   "cell_type": "code",
   "execution_count": 20,
   "metadata": {},
   "outputs": [
    {
     "ename": "TypeError",
     "evalue": "'NoneType' object is not subscriptable",
     "output_type": "error",
     "traceback": [
      "\u001b[0;31m---------------------------------------------------------------------------\u001b[0m",
      "\u001b[0;31mTypeError\u001b[0m                                 Traceback (most recent call last)",
      "Cell \u001b[0;32mIn[20], line 1\u001b[0m\n\u001b[0;32m----> 1\u001b[0m onto\u001b[39m.\u001b[39;49mpredicates[\u001b[39m0\u001b[39;49m]\n",
      "\u001b[0;31mTypeError\u001b[0m: 'NoneType' object is not subscriptable"
     ]
    }
   ],
   "source": []
  },
  {
   "cell_type": "code",
   "execution_count": 77,
   "metadata": {},
   "outputs": [],
   "source": [
    "onto.save()"
   ]
  },
  {
   "cell_type": "code",
   "execution_count": 14,
   "metadata": {},
   "outputs": [
    {
     "data": {
      "text/plain": [
       "['production_room ',\n",
       " 'assembly_room ',\n",
       " 'presented_task ',\n",
       " 'at ',\n",
       " 'human_present',\n",
       " 'block_to_deliver',\n",
       " 'empty_robot',\n",
       " 'finished',\n",
       " 'extro',\n",
       " 'intro',\n",
       " 'computed_e',\n",
       " 'consc',\n",
       " 'unsc',\n",
       " 'computed_c',\n",
       " 'agree',\n",
       " 'disagree',\n",
       " 'computed_a']"
      ]
     },
     "execution_count": 14,
     "metadata": {},
     "output_type": "execute_result"
    }
   ],
   "source": [
    "predicates"
   ]
  },
  {
   "cell_type": "code",
   "execution_count": null,
   "metadata": {},
   "outputs": [],
   "source": [
    "#p=Predicates(\"finished\")\n",
    "#destroy_entity(p)"
   ]
  },
  {
   "attachments": {},
   "cell_type": "markdown",
   "metadata": {},
   "source": [
    "data properties\n",
    "        int\n",
    "        float\n",
    "        bool\n",
    "        str (string)\n",
    "        owlready2.normstr (normalized string, a single-line string)\n",
    "        owlready2.locstr (localized string, a string with a language associated)\n",
    "        datetime.date\n",
    "        datetime.time\n",
    "        datetime.datetime"
   ]
  },
  {
   "cell_type": "code",
   "execution_count": null,
   "metadata": {},
   "outputs": [],
   "source": [
    "f = Functions(\"no_of_box\")\n",
    "f.has_value=[5]"
   ]
  },
  {
   "cell_type": "code",
   "execution_count": null,
   "metadata": {},
   "outputs": [],
   "source": [
    "f.has_value"
   ]
  },
  {
   "cell_type": "code",
   "execution_count": null,
   "metadata": {},
   "outputs": [],
   "source": [
    "f.has_value=[2]"
   ]
  }
 ],
 "metadata": {
  "kernelspec": {
   "display_name": "Python 3",
   "language": "python",
   "name": "python3"
  },
  "language_info": {
   "codemirror_mode": {
    "name": "ipython",
    "version": 3
   },
   "file_extension": ".py",
   "mimetype": "text/x-python",
   "name": "python",
   "nbconvert_exporter": "python",
   "pygments_lexer": "ipython3",
   "version": "3.8.10"
  },
  "orig_nbformat": 4
 },
 "nbformat": 4,
 "nbformat_minor": 2
}
