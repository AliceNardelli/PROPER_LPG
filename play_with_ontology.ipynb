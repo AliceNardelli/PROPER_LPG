{
 "cells": [
  {
   "cell_type": "code",
   "execution_count": 1,
   "metadata": {},
   "outputs": [],
   "source": [
    "from owlready2 import *\n",
    "onto_path.append(\"/home/alice/\")\n",
    "onto = get_ontology(\"http://www.semanticweb.org/alice/ontologies/2023/3/prova#\").load()"
   ]
  },
  {
   "cell_type": "code",
   "execution_count": 2,
   "metadata": {},
   "outputs": [
    {
     "data": {
      "text/plain": [
       "AllDisjoint([prova.Predicates, prova.Functions, prova.Actions, prova.Types, prova.Objects, prova.Parameters])"
      ]
     },
     "execution_count": 2,
     "metadata": {},
     "output_type": "execute_result"
    }
   ],
   "source": [
    "with onto:\n",
    "    class Predicates(Thing):\n",
    "        pass\n",
    "    class Functions(Thing):\n",
    "        pass\n",
    "    class Actions(Thing):\n",
    "        pass\n",
    "    class Types(Thing):\n",
    "        pass\n",
    "    class Objects(Thing):\n",
    "        pass\n",
    "    class Parameters(Thing):\n",
    "        pass\n",
    "\n",
    "AllDisjoint([Predicates,Functions,Actions,Types,Objects,Parameters])"
   ]
  },
  {
   "cell_type": "code",
   "execution_count": 3,
   "metadata": {},
   "outputs": [
    {
     "data": {
      "text/plain": [
       "[prova.Actions,\n",
       " prova.Predicates,\n",
       " prova.Functions,\n",
       " prova.Objects,\n",
       " prova.Types,\n",
       " prova.Parameters]"
      ]
     },
     "execution_count": 3,
     "metadata": {},
     "output_type": "execute_result"
    }
   ],
   "source": [
    "list(onto.classes())"
   ]
  },
  {
   "cell_type": "code",
   "execution_count": 4,
   "metadata": {},
   "outputs": [],
   "source": [
    "#with onto:\n",
    " #sync_reasoner()"
   ]
  },
  {
   "cell_type": "code",
   "execution_count": 5,
   "metadata": {},
   "outputs": [],
   "source": [
    "with onto:\n",
    "\n",
    "    class has_effect_predicates(ObjectProperty):\n",
    "        domain    = [Actions]\n",
    "        range     = [Predicates]\n",
    "\n",
    "    class is_effect_predicates(ObjectProperty):\n",
    "        domain    = [Predicates]\n",
    "        range     = [Actions]\n",
    "        inverse_property = has_effect_predicates\n",
    "\n",
    "    class has_effect_function(ObjectProperty):\n",
    "        domain    = [Actions]\n",
    "        range     = [Functions]\n",
    "\n",
    "    class is_effect_function(ObjectProperty):\n",
    "        domain    = [Functions]\n",
    "        range     = [Actions]\n",
    "        inverse_property = has_effect_function\n",
    "\n",
    "    class has_object(ObjectProperty):\n",
    "        domain    = [Predicates]\n",
    "        range     = [Objects]\n",
    "\n",
    "    class is_object(ObjectProperty):\n",
    "        domain    = [Objects]\n",
    "        range     = [Predicates]\n",
    "        inverse_property = has_object\n",
    "\n",
    "    class has_type(ObjectProperty):\n",
    "        domain    = [Objects]\n",
    "        range     = [Types]\n",
    "\n",
    "    class is_type(ObjectProperty):\n",
    "        domain    = [Types]\n",
    "        range     = [Objects]\n",
    "        inverse_property = has_type\n",
    "\n",
    "    class has_params_actions(ObjectProperty):\n",
    "        domain    = [Parameters]\n",
    "        range     = [Actions]\n",
    "\n",
    "    class is_params_actions(ObjectProperty):\n",
    "        domain    = [Actions]\n",
    "        range     = [Parameters]\n",
    "        inverse_property = has_params_actions\n",
    "\n",
    "    class has_params_types(ObjectProperty):\n",
    "        domain    = [Parameters]\n",
    "        range     = [Types]\n",
    "\n",
    "    class is_params_types(ObjectProperty):\n",
    "        domain    = [Types]\n",
    "        range     = [Parameters]\n",
    "        inverse_property = has_params_types"
   ]
  },
  {
   "cell_type": "code",
   "execution_count": 6,
   "metadata": {},
   "outputs": [],
   "source": [
    "with onto:\n",
    "    class has_value(DataProperty, FunctionalProperty): #functional means that each one has a single value\n",
    "        domain =[Functions]\n",
    "        range = [float]\n",
    "    class is_grounded(DataProperty, FunctionalProperty): #functional means that each one has a single value\n",
    "        domain =[Predicates]\n",
    "        range = [bool]\n",
    "    class has_operator(DataProperty): #is not a functional, each predicate can have more than one operator\n",
    "        #domain =[Predicates]\n",
    "        range = [str]\n",
    "    class has_order(DataProperty, FunctionalProperty): \n",
    "        domain =[Parameters]\n",
    "        range = [int]"
   ]
  },
  {
   "attachments": {},
   "cell_type": "markdown",
   "metadata": {},
   "source": [
    "check inverse\n",
    "a = Actions(\"go\")\n",
    "p = Predicates(\"at\")\n",
    "#a.has_effect_predicates.append(p)\n",
    "p.is_effect_predicates=[a]\n",
    "a.has_effect_predicates\n",
    "p.is_effect_predicates\n",
    "is_effect_predicates.domain"
   ]
  },
  {
   "cell_type": "code",
   "execution_count": 7,
   "metadata": {},
   "outputs": [],
   "source": [
    "domain_path = \"/home/alice/PROPER_LPG/\"\n",
    "if os.path.isfile(domain_path+'/prova_domain.pddl'):\n",
    "    output_path=domain_path+'/prova_domain.pddl'\n",
    "    with open(output_path, \"r\") as domain_file:\n",
    "        raw_domain = domain_file.readlines()\n"
   ]
  },
  {
   "cell_type": "code",
   "execution_count": 8,
   "metadata": {},
   "outputs": [],
   "source": [
    "last_action=\"\"\n",
    "actions=[]\n",
    "for p in raw_domain:\n",
    "    if (\":durative-action\" in p) or (\":action\" in p):\n",
    "        if (\":durative-action\" in p):\n",
    "            last_action=p.replace(\":durative-action\",\"\").replace(\"( \",\"\").replace(\"\\n\",\"\")\n",
    "        elif (\":action\" in p):\n",
    "            last_action=p.replace(\":action\",\"\").replace(\"( \",\"\").replace(\"\\n\",\"\")\n",
    "        actions.append(last_action)\n",
    "actions.pop(0)\n",
    "actions_objects={}\n",
    "for a in actions:\n",
    "    actions_objects[a]=Actions(a)"
   ]
  },
  {
   "cell_type": "code",
   "execution_count": 9,
   "metadata": {},
   "outputs": [],
   "source": [
    "#FIND TYPES AND ADD TO THE ONTOLOGY\n",
    "types=[]\n",
    "t=False\n",
    "for p in raw_domain:\n",
    "        if (\")\" in p):\n",
    "            t=False\n",
    "        if t==True:\n",
    "            types.append(p.replace(\"\\t\",\"\").replace(\"\\n\",\"\"))\n",
    "        if (\":types\" in p):\n",
    "            t=True\n",
    "types_objects={}\n",
    "for t in types:\n",
    "   types_objects[t]=Types(t)"
   ]
  },
  {
   "cell_type": "code",
   "execution_count": 10,
   "metadata": {},
   "outputs": [],
   "source": [
    "#PREDICATES\n",
    "predicates=[]\n",
    "t=False\n",
    "for p in raw_domain:\n",
    "        if (\":action\" in p):\n",
    "            t=False\n",
    "        if t==True:\n",
    "            if \"?\" in p:\n",
    "                new=p[p.find(\"(\")+1:p.find(\"?\")].replace(\" \",\"\")\n",
    "                \n",
    "            else:\n",
    "                new=p[p.find(\"(\")+1:p.find(\")\")].replace(\" \",\"\")\n",
    "                \n",
    "            if new!=\"\":   \n",
    "                predicates.append(new)\n",
    "        if (\":predicates\" in p):\n",
    "            t=True\n",
    "predicates_objects={}\n",
    "for t in predicates:\n",
    "    predicates_objects[t]=Predicates(t)\n"
   ]
  },
  {
   "cell_type": "code",
   "execution_count": 11,
   "metadata": {},
   "outputs": [
    {
     "data": {
      "text/plain": [
       "{'production_room': prova.production_room,\n",
       " 'assembly_room': prova.assembly_room,\n",
       " 'presented_task': prova.presented_task,\n",
       " 'at': prova.at,\n",
       " 'human_present': prova.human_present,\n",
       " 'block_to_deliver': prova.block_to_deliver,\n",
       " 'empty_robot': prova.empty_robot,\n",
       " 'finished': prova.finished,\n",
       " 'extro': prova.extro,\n",
       " 'intro': prova.intro,\n",
       " 'computed_e': prova.computed_e,\n",
       " 'consc': prova.consc,\n",
       " 'unsc': prova.unsc,\n",
       " 'computed_c': prova.computed_c,\n",
       " 'agree': prova.agree,\n",
       " 'disagree': prova.disagree,\n",
       " 'computed_a': prova.computed_a}"
      ]
     },
     "execution_count": 11,
     "metadata": {},
     "output_type": "execute_result"
    }
   ],
   "source": [
    "predicates_objects"
   ]
  },
  {
   "cell_type": "code",
   "execution_count": 12,
   "metadata": {},
   "outputs": [],
   "source": [
    "functions=[]\n",
    "t=False\n",
    "for p in raw_domain:\n",
    "        if (\":predicates\" in p):\n",
    "            t=False\n",
    "        if t==True:\n",
    "            if \"?\" in p:\n",
    "                new=p[p.find(\"(\")+1:p.find(\"?\")]\n",
    "                \n",
    "            else:\n",
    "                new=p[p.find(\"(\")+1:p.find(\")\")]\n",
    "                \n",
    "            if new!=\"\":   \n",
    "               functions.append(new)\n",
    "        if (\":functions\" in p):\n",
    "            t=True\n",
    "function_objects={}\n",
    "for t in functions:\n",
    "    function_objects[t]=Functions(t)"
   ]
  },
  {
   "cell_type": "code",
   "execution_count": 13,
   "metadata": {},
   "outputs": [],
   "source": [
    "#connect all the relations between actions predicates and functions\n",
    "t=False\n",
    "pr=False\n",
    "last_action=\"\"\n",
    "new_params=[]\n",
    "associated_types=[]\n",
    "associated_actions=[]\n",
    "associated_orders=[]\n",
    "for p in raw_domain:\n",
    "    if (\":duration\" in p) or (\":precondition\" in p):\n",
    "        pr=False\n",
    "    if (\":durative-action\" in p) or (\":action\" in p):\n",
    "        t=False\n",
    "        if (\":durative-action\" in p):\n",
    "            last_action=p.replace(\":durative-action\",\"\").replace(\"( \",\"\").replace(\"\\n\",\"\")\n",
    "        elif (\":action\" in p):\n",
    "            last_action=p.replace(\":action\",\"\").replace(\"( \",\"\").replace(\"\\n\",\"\")\n",
    "    if t==True:\n",
    "        if \";\" not in p:\n",
    "            operation=p.replace(\"and\",\"\").replace(\"at end\",\"\").replace(\"(\",\" \").replace(\")\",\" \")\n",
    "            pred=operation.replace(\"decrease\",\"\").replace(\"increase\",\"\").replace(\"assign\",\"\").replace(\"not\",\"\").split()\n",
    "            #operation=operation.split()\n",
    "           \n",
    "            if pred==[]:\n",
    "                continue\n",
    "            else:\n",
    "                   \n",
    "               check=str(pred[0])\n",
    "               for l in predicates:\n",
    "                   if check==l:\n",
    "                       actions_objects[last_action].has_effect_predicates.append(predicates_objects[check])\n",
    "                       ops=last_action.replace(\" \",\"\")+\" \"+operation\n",
    "                       predicates_objects[check].has_operator.append(ops)\n",
    "                       break\n",
    "                    \n",
    "               for l in functions:\n",
    "                   if check==l:\n",
    "                       actions_objects[last_action].has_effect_function.append(function_objects[check])\n",
    "                       ops=last_action.replace(\" \",\"\")+\" \"+operation\n",
    "                       function_objects[check].has_operator.append(ops)\n",
    "                       break\n",
    "    if pr==True:\n",
    "        params=p[p.index(\"(\")+1:p.index(\")\")].replace(\"-\",\"\").split(\" \")\n",
    "        while 1:\n",
    "                try:\n",
    "                   params.remove(\"\")\n",
    "                except:\n",
    "                   break\n",
    "        c=0\n",
    "        for i in params:\n",
    "            if \"?\" in i:\n",
    "                c+=1\n",
    "                new_params.append(i)\n",
    "                associated_actions.append(last_action)\n",
    "                associated_orders.append(c)\n",
    "            else:\n",
    "                for j in range(c):\n",
    "                    associated_types.append(i)\n",
    "                c=0\n",
    "    if \":parameters\" in p:\n",
    "        pr=True\n",
    "    if \":effect\" in p:\n",
    "        t=True"
   ]
  },
  {
   "cell_type": "code",
   "execution_count": 14,
   "metadata": {},
   "outputs": [],
   "source": [
    "parameters_objects={}\n",
    "for t in new_params:\n",
    "    parameters_objects[t]=Parameters(t)\n",
    "    "
   ]
  },
  {
   "cell_type": "code",
   "execution_count": 15,
   "metadata": {},
   "outputs": [],
   "source": [
    "for i in range(len(new_params)):\n",
    "    parameters_objects[new_params[i]].has_params_actions.append(actions_objects[associated_actions[i]])\n",
    "    if len(parameters_objects[new_params[i]].has_params_types)==0:\n",
    "        parameters_objects[new_params[i]].has_params_types.append(types_objects[associated_types[i]])\n",
    "    parameters_objects[new_params[i]].has_order=associated_orders[i]"
   ]
  },
  {
   "cell_type": "code",
   "execution_count": 16,
   "metadata": {},
   "outputs": [
    {
     "data": {
      "text/plain": [
       "[prova.room]"
      ]
     },
     "execution_count": 16,
     "metadata": {},
     "output_type": "execute_result"
    }
   ],
   "source": [
    "parameters_objects[\"?l2\"].has_params_types #different param types need different names"
   ]
  },
  {
   "cell_type": "code",
   "execution_count": 17,
   "metadata": {},
   "outputs": [
    {
     "name": "stdout",
     "output_type": "stream",
     "text": [
      "prova.interaction_level\n",
      "prova.scrupulousness_level\n",
      "prova.agreeableness_level\n",
      "prova.dur\n",
      "prova.no_blocks\n",
      "prova.max_no_blocks\n",
      "prova.extroversion_coefficient\n",
      "prova.desired_interaction\n",
      "prova.conscientious_coefficient\n",
      "prova.desired_scrupulousness\n",
      "prova.agreeableness_coefficient\n",
      "prova.desired_agreeableness\n",
      "prova.baseline\n"
     ]
    }
   ],
   "source": [
    "for i in Functions.instances():\n",
    "    print(i)"
   ]
  },
  {
   "cell_type": "code",
   "execution_count": 18,
   "metadata": {},
   "outputs": [],
   "source": [
    "#initialize all the predicates to false and all the functions to 0\n",
    "for p in predicates:\n",
    "    predicates_objects[p].is_grounded=False\n",
    "for f in functions:\n",
    "    function_objects[f].has_value=0"
   ]
  },
  {
   "cell_type": "code",
   "execution_count": 19,
   "metadata": {},
   "outputs": [],
   "source": [
    "if os.path.isfile(domain_path+'/prova_problem.pddl'):\n",
    "    output_path=domain_path+'/prova_problem.pddl'\n",
    "    with open(output_path, \"r\") as problem_file:\n",
    "        raw_problem = problem_file.readlines()"
   ]
  },
  {
   "cell_type": "code",
   "execution_count": 20,
   "metadata": {},
   "outputs": [
    {
     "name": "stdout",
     "output_type": "stream",
     "text": [
      "['r1', 'room']\n",
      "['r2', 'room']\n"
     ]
    }
   ],
   "source": [
    "objects=[]\n",
    "associated_types=[]\n",
    "t=False\n",
    "for p in raw_problem:\n",
    "        if (\":init\" in p):\n",
    "            t=False\n",
    "        if t==True:\n",
    "            o_t=p.replace(\"\\n\",\"\").replace(\")\",\"\").replace(\"\\t\",\"\").replace(\" \",\"\").split(\"-\")\n",
    "            if o_t[0] != \"\":\n",
    "               print(o_t)\n",
    "               objects.append(o_t[0])\n",
    "               associated_types.append(o_t[1])\n",
    "        if (\":objects\" in p):\n",
    "            t=True\n"
   ]
  },
  {
   "cell_type": "code",
   "execution_count": 21,
   "metadata": {},
   "outputs": [],
   "source": [
    "objects_objects={}\n",
    "c=0\n",
    "for t in objects:\n",
    "    objects_objects[t]=Objects(t)\n",
    "    objects_objects[t].has_type=[types_objects[associated_types[c]]]\n",
    "    c+=1"
   ]
  },
  {
   "cell_type": "code",
   "execution_count": 22,
   "metadata": {},
   "outputs": [],
   "source": [
    "#initialize the problem\n",
    "t=False\n",
    "for p in raw_problem:\n",
    "        if (\":goal\" in p):\n",
    "            t=False\n",
    "        if t==True:\n",
    "            prec=p.replace(\"(\",\" \").replace(\")\",\" \").replace(\"\\n\",\" \").split(\" \")\n",
    "            while 1:\n",
    "                try:\n",
    "                    prec.remove(\"\")\n",
    "                except:\n",
    "                    break\n",
    "            if prec!=[]:\n",
    "                if prec[0]==\"=\":\n",
    "                    ff=prec[1]\n",
    "                    function_objects[ff].has_value=float(prec[2])\n",
    "                else:\n",
    "                    pp=prec[0]\n",
    "                    predicates_objects[pp].is_grounded=True\n",
    "                    if len(prec)==2:\n",
    "                         oj=prec[1]\n",
    "                         predicates_objects[pp].has_object=[objects_objects[oj]]\n",
    "\n",
    "                      \n",
    "            \n",
    "        if (\":init\" in p):\n",
    "            t=True"
   ]
  },
  {
   "cell_type": "code",
   "execution_count": 23,
   "metadata": {},
   "outputs": [],
   "source": [
    "onto.save()"
   ]
  },
  {
   "cell_type": "code",
   "execution_count": 24,
   "metadata": {},
   "outputs": [],
   "source": [
    "#p=Predicates(\"finished\")\n",
    "#destroy_entity(p)"
   ]
  },
  {
   "attachments": {},
   "cell_type": "markdown",
   "metadata": {},
   "source": [
    "data properties\n",
    "        int\n",
    "        float\n",
    "        bool\n",
    "        str (string)\n",
    "        owlready2.normstr (normalized string, a single-line string)\n",
    "        owlready2.locstr (localized string, a string with a language associated)\n",
    "        datetime.date\n",
    "        datetime.time\n",
    "        datetime.datetime"
   ]
  },
  {
   "cell_type": "code",
   "execution_count": 25,
   "metadata": {},
   "outputs": [],
   "source": [
    "#plan the first time and get the list of action\n",
    "planner_path = \"/home/alice/PROPER_LPG/\"\n",
    "os.chdir (planner_path)\n",
    "command =  './lpg++ -o prova_domain.pddl -f prova_problem.pddl -n 1 -force_neighbour_insertion'\n",
    "#run the planner\n",
    "fd_process = subprocess.Popen([command], stdout=subprocess.PIPE, shell=True)\n",
    "(out, err) = fd_process.communicate()\n",
    "fd_exit = fd_process.returncode\n"
   ]
  },
  {
   "cell_type": "code",
   "execution_count": 26,
   "metadata": {},
   "outputs": [
    {
     "name": "stdout",
     "output_type": "stream",
     "text": [
      "['CHECK_EXTROVERSION', 'CHECK_CONSCIENTOUS', 'CHECK_DISAGREEABLE', 'REACHING_PRODUCTION_ROOM R1 R2', 'COMPUTE_METRIC_CONSC', 'COMPUTE_METRIC_DISAGREE', 'COMPUTE_METRIC_EXTRO', 'PRESENT_PRODUCTION_ROOM R2', 'COMPUTE_METRIC_EXTRO', 'COMPUTE_METRIC_CONSC', 'APPROACH_HUMAN', 'CHECK_HUMAN_WORK', 'COMPUTE_METRIC_DISAGREE', 'ASK_PICK_THE_BLOCK R2', 'COMPUTE_METRIC_DISAGREE', 'COMPUTE_METRIC_EXTRO', 'COMPUTE_METRIC_CONSC', 'TRY_REPLACE_THE_HUMAN', 'REACHING_ASSEMBLY_ROOM R2 R1', 'COMPUTE_METRIC_EXTRO', 'COMPUTE_METRIC_DISAGREE', 'COMPUTE_METRIC_CONSC', 'PRESENT_ASSEMBLY_ROOM R1', 'COMPUTE_METRIC_EXTRO', 'APPROACH_HUMAN', 'COMPUTE_METRIC_CONSC', 'COMPUTE_METRIC_DISAGREE', 'REMIND_TO_PAY_ATTENTION', 'ASK_ASSEMBLY_BLOCK R1', 'COMPUTE_METRIC_EXTRO', 'COMPUTE_METRIC_CONSC', 'COMPUTE_METRIC_DISAGREE', 'REACHING_PRODUCTION_ROOM R1 R2', 'COMPUTE_METRIC_EXTRO', 'COMPUTE_METRIC_DISAGREE', 'COMPUTE_METRIC_CONSC', 'ASK_PICK_THE_BLOCK R2', 'COMPUTE_METRIC_DISAGREE', 'COMPUTE_METRIC_EXTRO', 'COMPUTE_METRIC_CONSC', 'REACHING_ASSEMBLY_ROOM R2 R1', 'COMPUTE_METRIC_EXTRO', 'CHIT_CHAT', 'COMPUTE_METRIC_CONSC', 'REMIND_TO_PAY_ATTENTION', 'COMPUTE_METRIC_DISAGREE', 'ASK_ASSEMBLY_BLOCK R1', 'COMPUTE_METRIC_EXTRO', 'COMPUTE_METRIC_CONSC', 'COMPUTE_METRIC_DISAGREE', 'SAY_ROBOT_WORK_BETTER', 'REACHING_PRODUCTION_ROOM R1 R2', 'COMPUTE_METRIC_EXTRO', 'COMPUTE_METRIC_CONSC', 'COMPUTE_METRIC_DISAGREE', 'ASK_PICK_THE_BLOCK R2', 'COMPUTE_METRIC_CONSC', 'COMPUTE_METRIC_EXTRO', 'EXPRESS_ENTHUSIASM', 'CHECK_HUMAN_WORK', 'COMPUTE_METRIC_DISAGREE', 'REACHING_ASSEMBLY_ROOM R2 R1', 'COMPUTE_METRIC_CONSC', 'COMPUTE_METRIC_EXTRO', 'COMPUTE_METRIC_DISAGREE', 'ASK_ASSEMBLY_BLOCK R1', 'COMPUTE_METRIC_CONSC', 'COMPUTE_METRIC_DISAGREE', 'COMPUTE_METRIC_EXTRO', 'REACHING_PRODUCTION_ROOM R1 R2', 'COMPUTE_METRIC_CONSC', 'COMPUTE_METRIC_EXTRO', 'COMPUTE_METRIC_DISAGREE', 'REMIND_TO_PAY_ATTENTION', 'EXPRESS_ENTHUSIASM', 'ASK_PICK_THE_BLOCK R2', 'COMPUTE_METRIC_EXTRO', 'COMPUTE_METRIC_CONSC', 'COMPUTE_METRIC_DISAGREE', 'REACHING_ASSEMBLY_ROOM R2 R1', 'COMPUTE_METRIC_CONSC', 'COMPUTE_METRIC_EXTRO', 'COMPUTE_METRIC_DISAGREE', 'SAY_ROBOT_WORK_BETTER', 'ASK_ASSEMBLY_BLOCK R1', 'CHECK_FINISHED R1']\n"
     ]
    }
   ],
   "source": [
    "if os.path.isfile(planner_path+'/plan_prova_problem.pddl_1.SOL'):\n",
    "        output_path=planner_path+'/plan_prova_problem.pddl_1.SOL'\n",
    "        with open(output_path, \"r\") as plan_file:\n",
    "            raw_plan = plan_file.readlines()\n",
    "        plan=[]\n",
    "        for p in raw_plan:\n",
    "           if p[0] !=\";\":\n",
    "            plan.append(p)\n",
    "        ret=plan.remove(\"\\n\") \n",
    "        while ret==None:  \n",
    "            try:\n",
    "              ret=plan.remove(\"\\n\")\n",
    "            except:\n",
    "              ret=\"alice\"    \n",
    "        actions_to_execute=[]\n",
    "        for i in plan:\n",
    "            actions_to_execute.append(i[i.find(\"(\")+1:i.find(\")\")])\n",
    "        print(actions_to_execute)\n",
    "        \n",
    "else:\n",
    "        print(\"Plan not found\")"
   ]
  },
  {
   "cell_type": "code",
   "execution_count": 37,
   "metadata": {},
   "outputs": [],
   "source": [
    "def update_ontology(a):\n",
    "    #check preconditions if neobjects_objects[params[parameters_objects[o[2]].has_order-1].lower()].has_typeeded\n",
    "    ac=a.split(\" \")[0]\n",
    "    params=a.split(\" \")[1:]\n",
    "    preds=actions_objects[ac].has_effect_predicates\n",
    "    #prendo tutti i predicati effetto di quell'azione\n",
    "    for p in preds:\n",
    "        ops=p.has_operator\n",
    "        key = list(filter(lambda x: predicates_objects[x] == p, predicates_objects))[0]\n",
    "        #per ogni predicato prendo tutte le operazioni di quel predicato\n",
    "        for o in ops:\n",
    "            o=o.replace(\"\\n\",\"\").replace(\"\\t\",\"\").split(\" \")\n",
    "            while 1:\n",
    "                try:\n",
    "                    o.remove(\"\")\n",
    "                except:\n",
    "                    break\n",
    "            #considero solo quelle che sono dell'azione che sto eseguendo\n",
    "            if o[0]==ac:\n",
    "                if o[1]==\"not\":\n",
    "                    p.is_grounded=False\n",
    "                    o.pop(1)\n",
    "                else:\n",
    "                    p.is_grounded=True\n",
    "                \n",
    "                if len(o)>2 and p.is_grounded==True:\n",
    "                   print(p,[params[parameters_objects[o[2]].has_order-1].lower()])\n",
    "                   #if parameters_objects[o[2]].has_params_types==objects_objects[params[parameters_objects[o[2]].has_order-1].lower()].has_type: #write the type of a èaram only when the predicate is set to true\n",
    "                   p.has_object.append(objects_objects[params[parameters_objects[o[2]].has_order-1].lower()])\n",
    "\n",
    "\n",
    "    funcs=actions_objects[ac].has_effect_function\n",
    "    if funcs!=[]:\n",
    "        for f in funcs:\n",
    "            ops=f.has_operator\n",
    "            key = list(filter(lambda x: function_objects[x] == f, function_objects))[0]\n",
    "            #per ogni predicato prendo tutte le operazioni di quel predicato\n",
    "            for o in ops:\n",
    "                o=o.replace(\"\\n\",\"\").replace(\"\\t\",\"\").split(\" \")\n",
    "                while 1:\n",
    "                    try:\n",
    "                        o.remove(\"\")\n",
    "                    except:\n",
    "                        break\n",
    "                if o[0]==ac:\n",
    "                    if o[1]==\"assign\":\n",
    "                       f.has_value=int(o[3])\n",
    "                    elif o[1]==\"increase\":\n",
    "                        actual_value=f.has_value\n",
    "                        if o[3]==\"*\":\n",
    "                            v1=function_objects[o[4]].has_value\n",
    "                            v2=function_objects[o[5]].has_value\n",
    "                            f.has_value=actual_value + v1*v2\n",
    "                        else:\n",
    "                            f.has_value=actual_value + int(o[3])\n",
    "                    elif o[1]==\"decrease\":\n",
    "                        actual_value=f.has_value\n",
    "                        if o[3]==\"*\":\n",
    "                            v1=function_objects[o[4]].has_value\n",
    "                            v2=function_objects[o[5]].has_value\n",
    "                            f.has_value=actual_value - v1*v2\n",
    "                        else:\n",
    "                            f.has_value=actual_value - int(o[3])\n",
    "                    else:\n",
    "                        print(\"NO OPERATION FOUND\")\n"
   ]
  },
  {
   "cell_type": "code",
   "execution_count": 38,
   "metadata": {},
   "outputs": [
    {
     "name": "stdout",
     "output_type": "stream",
     "text": [
      "prova.at ['r2']\n",
      "prova.at ['r2']\n",
      "prova.at ['r2']\n",
      "prova.at ['r2']\n",
      "prova.at ['r2']\n",
      "prova.at ['r2']\n",
      "prova.presented_task ['r2']\n",
      "prova.presented_task ['r2']\n",
      "prova.presented_task ['r2']\n",
      "prova.presented_task ['r2']\n",
      "prova.at ['r1']\n",
      "prova.at ['r1']\n",
      "prova.at ['r1']\n",
      "prova.at ['r1']\n",
      "prova.at ['r1']\n",
      "prova.at ['r1']\n",
      "prova.presented_task ['r1']\n",
      "prova.presented_task ['r1']\n",
      "prova.presented_task ['r1']\n",
      "prova.presented_task ['r1']\n",
      "prova.at ['r2']\n",
      "prova.at ['r2']\n",
      "prova.at ['r2']\n",
      "prova.at ['r2']\n",
      "prova.at ['r2']\n",
      "prova.at ['r2']\n",
      "prova.at ['r1']\n",
      "prova.at ['r1']\n",
      "prova.at ['r1']\n",
      "prova.at ['r1']\n",
      "prova.at ['r1']\n",
      "prova.at ['r1']\n",
      "prova.at ['r2']\n",
      "prova.at ['r2']\n",
      "prova.at ['r2']\n",
      "prova.at ['r2']\n",
      "prova.at ['r2']\n",
      "prova.at ['r2']\n",
      "prova.at ['r1']\n",
      "prova.at ['r1']\n",
      "prova.at ['r1']\n",
      "prova.at ['r1']\n",
      "prova.at ['r1']\n",
      "prova.at ['r1']\n",
      "prova.at ['r2']\n",
      "prova.at ['r2']\n",
      "prova.at ['r2']\n",
      "prova.at ['r2']\n",
      "prova.at ['r2']\n",
      "prova.at ['r2']\n",
      "prova.at ['r1']\n",
      "prova.at ['r1']\n",
      "prova.at ['r1']\n",
      "prova.at ['r1']\n",
      "prova.at ['r1']\n",
      "prova.at ['r1']\n"
     ]
    }
   ],
   "source": [
    "for a in actions_to_execute:\n",
    "    update_ontology(a)"
   ]
  },
  {
   "cell_type": "code",
   "execution_count": 39,
   "metadata": {},
   "outputs": [
    {
     "data": {
      "text/plain": [
       "['r2',\n",
       " prova.r2,\n",
       " prova.r2,\n",
       " prova.r2,\n",
       " prova.r2,\n",
       " prova.r1,\n",
       " prova.r1,\n",
       " prova.r1,\n",
       " prova.r1]"
      ]
     },
     "execution_count": 39,
     "metadata": {},
     "output_type": "execute_result"
    }
   ],
   "source": [
    "predicates_objects[\"presented_task\"].has_object"
   ]
  },
  {
   "cell_type": "code",
   "execution_count": null,
   "metadata": {},
   "outputs": [],
   "source": [
    "domain_path = \"/home/alice/PROPER_LPG/\"\n",
    "if os.path.isfile(domain_path+'/prova_problem.pddl'):\n",
    "    output_path=domain_path+'/prova_problem.pddl'\n",
    "    with open(output_path, \"r\") as domain_file:\n",
    "        raw_problem_copy= domain_file.readlines()\n",
    "c=0\n",
    "c_init_1=0\n",
    "c_init_2=0\n",
    "c_end_1=0\n",
    "c_end_2=0\n",
    "for p in raw_problem_copy:\n",
    "    if \"define\" in p:\n",
    "        c_init_1=c\n",
    "    if \"init\" in p:\n",
    "        c_init_2=c+1\n",
    "    if \"goal\" in p:\n",
    "        c_end_1=c-1\n",
    "    c+=1   \n",
    "c_end_2=c\n",
    "domain_file.close()\n"
   ]
  },
  {
   "cell_type": "code",
   "execution_count": null,
   "metadata": {},
   "outputs": [],
   "source": [
    "start_file=raw_problem_copy[c_init_1:c_init_2]"
   ]
  },
  {
   "cell_type": "code",
   "execution_count": null,
   "metadata": {},
   "outputs": [],
   "source": [
    "end_file=raw_problem_copy[c_end_1:c_end_2]"
   ]
  },
  {
   "cell_type": "code",
   "execution_count": null,
   "metadata": {},
   "outputs": [],
   "source": [
    "init_file=[]\n",
    "for i in Predicates.instances():\n",
    "    key = list(filter(lambda x: predicates_objects[x] == i, predicates_objects))[0]\n",
    "    if i.is_grounded==True:\n",
    "        new_line=\"      (\" +key\n",
    "        if i.has_object!=[]:\n",
    "            key_obj = list(filter(lambda x: objects_objects[x] == i.has_object[0], objects_objects))[0]\n",
    "            new_line=new_line+ \" \"+key_obj\n",
    "        new_line=new_line+\")\\n\"\n",
    "        init_file.append(new_line)"
   ]
  },
  {
   "cell_type": "code",
   "execution_count": null,
   "metadata": {},
   "outputs": [],
   "source": [
    "for i in Functions.instances():\n",
    "    key = list(filter(lambda x: function_objects[x] == i, function_objects))[0]\n",
    "    new_line=\"      (=(\"+key+\")\"+str(i.has_value)+\")\\n\"\n",
    "    init_file.append(new_line)"
   ]
  },
  {
   "cell_type": "code",
   "execution_count": null,
   "metadata": {},
   "outputs": [],
   "source": [
    "new_pb=start_file+init_file+end_file\n",
    "new_pb"
   ]
  },
  {
   "cell_type": "code",
   "execution_count": null,
   "metadata": {},
   "outputs": [],
   "source": [
    "output_path=domain_path+'/prova_problem_copia.pddl'\n",
    "with open(output_path, \"w\") as pb_file:\n",
    "    for line in new_pb:\n",
    "        pb_file.write(line)\n",
    "        "
   ]
  },
  {
   "cell_type": "code",
   "execution_count": null,
   "metadata": {},
   "outputs": [],
   "source": [
    "#replan\n",
    "planner_path = \"/home/alice/PROPER_LPG/\"\n",
    "os.chdir (planner_path)\n",
    "command =  './lpg++ -o prova_domain.pddl -f prova_problem_copia.pddl -n 1 -force_neighbour_insertion'\n",
    "#run the planner\n",
    "fd_process = subprocess.Popen([command], stdout=subprocess.PIPE, shell=True)\n",
    "(out, err) = fd_process.communicate()\n",
    "fd_exit = fd_process.returncode"
   ]
  }
 ],
 "metadata": {
  "kernelspec": {
   "display_name": "Python 3",
   "language": "python",
   "name": "python3"
  },
  "language_info": {
   "codemirror_mode": {
    "name": "ipython",
    "version": 3
   },
   "file_extension": ".py",
   "mimetype": "text/x-python",
   "name": "python",
   "nbconvert_exporter": "python",
   "pygments_lexer": "ipython3",
   "version": "3.8.10"
  },
  "orig_nbformat": 4
 },
 "nbformat": 4,
 "nbformat_minor": 2
}
